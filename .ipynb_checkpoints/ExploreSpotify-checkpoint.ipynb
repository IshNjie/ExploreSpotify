{
 "cells": [
  {
   "cell_type": "markdown",
   "metadata": {},
   "source": [
    "https://developer.spotify.com/console/get-current-user-playlists/?limit=&offset=\n",
    "\n",
    "https://developer.spotify.com/console/get-playlist-tracks/?playlist_id=&market=&fields=&limit=&offset=&additional_types=\n",
    "\n"
   ]
  },
  {
   "cell_type": "code",
   "execution_count": 1,
   "metadata": {},
   "outputs": [],
   "source": [
    "import requests\n",
    "import pandas as pd\n",
    "from spot_secrets import *"
   ]
  },
  {
   "cell_type": "code",
   "execution_count": 2,
   "metadata": {},
   "outputs": [],
   "source": [
    "class exploreSpotify:\n",
    "    def __init__(self, playlistToken, playlistEndpoint, trackToken, trackEndpoint):\n",
    "        self.playlistToken = playlistToken\n",
    "        self.playlistEndpoint = playlistEndpoint\n",
    "        self.trackToken = trackToken\n",
    "        self.trackEndpoint = trackEndpoint\n",
    "        \n",
    "    def getPlaylists(self):\n",
    "        token_headers = {'Authorization':f\"Bearer {self.playlistToken}\"}\n",
    "        auth_response = requests.get(self.playlistEndpoint,headers = token_headers)\n",
    "        print('Status Code: ' + str(auth_response.status_code))\n",
    "        auth_response_data = auth_response.json()\n",
    "        print('Number of Playlists: '+ str(len(auth_response_data['items'])))\n",
    "        \n",
    "        playlists = []\n",
    "        playlist_owner = []\n",
    "        playlist_id = []\n",
    "    \n",
    "        for i in range(len(auth_response_data['items'])):\n",
    "            playlists.append(auth_response_data['items'][i]['name'])\n",
    "            playlist_owner.append(auth_response_data['items'][i]['owner']['id'])\n",
    "            playlist_id.append(auth_response_data['items'][i]['id'])\n",
    "        \n",
    "        d = {'id':playlist_id, 'playlists':playlists,'owner':playlist_owner}\n",
    "        df = pd.DataFrame(data = d)\n",
    "        # hides actual names of owners\n",
    "        df['owner'] = df['owner'].astype('category').cat.codes\n",
    "        \n",
    "        return df\n",
    "    \n",
    "    def getTracks(self,playlistName):\n",
    "        listPlay = self.getPlaylists()\n",
    "        playlist_df_id = listPlay[listPlay['playlists'] == playlistName]['id'].index[0]\n",
    "        playlistId = listPlay[listPlay['playlists'] == playlistName]['id'].values[0]\n",
    "        endpoint = self.trackEndpoint.format(playlistId)\n",
    "        Track_token_headers = {'Authorization':f\"Bearer {self.trackToken}\"}\n",
    "        track_auth_response = requests.get(endpoint,headers = Track_token_headers)\n",
    "        print('Status Code: ' + str(track_auth_response.status_code))\n",
    "        track_auth_response_data = track_auth_response.json()\n",
    "        print('Number of Tracks (capped at 100): '+ str(len(track_auth_response_data['items'])))\n",
    "        \n",
    "        \n",
    "        tracks = []\n",
    "        artists = []\n",
    "        playlist_name = listPlay['playlists'][playlist_df_id]\n",
    "        playlist_id = listPlay['id'][playlist_df_id]\n",
    "        \n",
    "        \n",
    "        for i in range(len(track_auth_response_data['items'])):\n",
    "            tracks.append(track_auth_response_data['items'][i]['track']['name'])\n",
    "            artists.append(track_auth_response_data['items'][i]['track']['artists'][0]['name'])\n",
    "            \n",
    "        d = {'tracks':tracks,'artists':artists, 'Playlist':playlist_name,'id':playlist_id}\n",
    "        df_tracks = pd.DataFrame(data = d)\n",
    "        \n",
    "        return df_tracks\n",
    "    "
   ]
  },
  {
   "cell_type": "code",
   "execution_count": 3,
   "metadata": {},
   "outputs": [],
   "source": [
    "vibes = exploreSpotify(playlist_OAuth,playlist_endpoint,tracks_OAuth,track_endpoint)"
   ]
  },
  {
   "cell_type": "code",
   "execution_count": null,
   "metadata": {},
   "outputs": [],
   "source": [
    "ishPlay = vibes.getPlaylists()"
   ]
  },
  {
   "cell_type": "code",
   "execution_count": null,
   "metadata": {},
   "outputs": [],
   "source": [
    "ishPlay"
   ]
  },
  {
   "cell_type": "code",
   "execution_count": 4,
   "metadata": {},
   "outputs": [
    {
     "name": "stdout",
     "output_type": "stream",
     "text": [
      "Status Code: 200\n",
      "Number of Playlists: 17\n",
      "Status Code: 200\n",
      "Number of Tracks (capped at 100): 100\n"
     ]
    }
   ],
   "source": [
    "songs = vibes.getTracks('R&B')"
   ]
  },
  {
   "cell_type": "code",
   "execution_count": 6,
   "metadata": {},
   "outputs": [
    {
     "data": {
      "text/html": [
       "<div>\n",
       "<style scoped>\n",
       "    .dataframe tbody tr th:only-of-type {\n",
       "        vertical-align: middle;\n",
       "    }\n",
       "\n",
       "    .dataframe tbody tr th {\n",
       "        vertical-align: top;\n",
       "    }\n",
       "\n",
       "    .dataframe thead th {\n",
       "        text-align: right;\n",
       "    }\n",
       "</style>\n",
       "<table border=\"1\" class=\"dataframe\">\n",
       "  <thead>\n",
       "    <tr style=\"text-align: right;\">\n",
       "      <th></th>\n",
       "      <th>tracks</th>\n",
       "      <th>artists</th>\n",
       "      <th>Playlist</th>\n",
       "      <th>id</th>\n",
       "    </tr>\n",
       "  </thead>\n",
       "  <tbody>\n",
       "    <tr>\n",
       "      <th>0</th>\n",
       "      <td>Let Her Go</td>\n",
       "      <td>6LACK</td>\n",
       "      <td>R&amp;B</td>\n",
       "      <td>3bGG6RwxOpyNvIsUMfv8wL</td>\n",
       "    </tr>\n",
       "    <tr>\n",
       "      <th>1</th>\n",
       "      <td>Pretty Little Fears (feat. J. Cole)</td>\n",
       "      <td>6LACK</td>\n",
       "      <td>R&amp;B</td>\n",
       "      <td>3bGG6RwxOpyNvIsUMfv8wL</td>\n",
       "    </tr>\n",
       "    <tr>\n",
       "      <th>2</th>\n",
       "      <td>Balenciaga Challenge (feat. Offset)</td>\n",
       "      <td>6LACK</td>\n",
       "      <td>R&amp;B</td>\n",
       "      <td>3bGG6RwxOpyNvIsUMfv8wL</td>\n",
       "    </tr>\n",
       "    <tr>\n",
       "      <th>3</th>\n",
       "      <td>One Way (feat. T-Pain) - Bonus</td>\n",
       "      <td>6LACK</td>\n",
       "      <td>R&amp;B</td>\n",
       "      <td>3bGG6RwxOpyNvIsUMfv8wL</td>\n",
       "    </tr>\n",
       "    <tr>\n",
       "      <th>4</th>\n",
       "      <td>Winner</td>\n",
       "      <td>Chris Brown</td>\n",
       "      <td>R&amp;B</td>\n",
       "      <td>3bGG6RwxOpyNvIsUMfv8wL</td>\n",
       "    </tr>\n",
       "  </tbody>\n",
       "</table>\n",
       "</div>"
      ],
      "text/plain": [
       "                                tracks      artists Playlist  \\\n",
       "0                           Let Her Go        6LACK      R&B   \n",
       "1  Pretty Little Fears (feat. J. Cole)        6LACK      R&B   \n",
       "2  Balenciaga Challenge (feat. Offset)        6LACK      R&B   \n",
       "3       One Way (feat. T-Pain) - Bonus        6LACK      R&B   \n",
       "4                               Winner  Chris Brown      R&B   \n",
       "\n",
       "                       id  \n",
       "0  3bGG6RwxOpyNvIsUMfv8wL  \n",
       "1  3bGG6RwxOpyNvIsUMfv8wL  \n",
       "2  3bGG6RwxOpyNvIsUMfv8wL  \n",
       "3  3bGG6RwxOpyNvIsUMfv8wL  \n",
       "4  3bGG6RwxOpyNvIsUMfv8wL  "
      ]
     },
     "execution_count": 6,
     "metadata": {},
     "output_type": "execute_result"
    }
   ],
   "source": [
    "songs.head()"
   ]
  },
  {
   "cell_type": "code",
   "execution_count": null,
   "metadata": {},
   "outputs": [],
   "source": []
  }
 ],
 "metadata": {
  "kernelspec": {
   "display_name": "Python 3",
   "language": "python",
   "name": "python3"
  },
  "language_info": {
   "codemirror_mode": {
    "name": "ipython",
    "version": 3
   },
   "file_extension": ".py",
   "mimetype": "text/x-python",
   "name": "python",
   "nbconvert_exporter": "python",
   "pygments_lexer": "ipython3",
   "version": "3.8.5"
  }
 },
 "nbformat": 4,
 "nbformat_minor": 4
}
